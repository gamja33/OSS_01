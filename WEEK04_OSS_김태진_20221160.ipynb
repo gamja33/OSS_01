{
  "nbformat": 4,
  "nbformat_minor": 0,
  "metadata": {
    "colab": {
      "provenance": []
    },
    "kernelspec": {
      "name": "python3",
      "display_name": "Python 3"
    },
    "language_info": {
      "name": "python"
    }
  },
  "cells": [
    {
      "cell_type": "code",
      "execution_count": 1,
      "metadata": {
        "id": "_EqQevyh7cy-",
        "colab": {
          "base_uri": "https://localhost:8080/"
        },
        "outputId": "97156f07-4f0b-44b6-c5c4-56065dd8901b"
      },
      "outputs": [
        {
          "output_type": "stream",
          "name": "stdout",
          "text": [
            "김태진\n",
            "20221160\n"
          ]
        }
      ],
      "source": [
        "# 본인의 이름, 학번을 작성하여 실행하세요.\n",
        "print(\"김태진\")\n",
        "print(\"20221160\")"
      ]
    },
    {
      "cell_type": "markdown",
      "source": [
        "## 이후 강의 PDF 예제 내용을 작성하여 실행하세요."
      ],
      "metadata": {
        "id": "m1FrI_-670e1"
      }
    },
    {
      "cell_type": "code",
      "source": [
        "#예제 1\n",
        "symbols = \"$*&!@\"\n",
        "codes = []\n",
        "\n",
        "for symbol in symbols:\n",
        "    codes.append (ord (symbol) )\n",
        "\n",
        "print(codes)"
      ],
      "metadata": {
        "id": "DK8jS1KQ7z37",
        "colab": {
          "base_uri": "https://localhost:8080/"
        },
        "outputId": "9aa49c2a-06d4-441f-dcfa-cc11a0cd459f"
      },
      "execution_count": 2,
      "outputs": [
        {
          "output_type": "stream",
          "name": "stdout",
          "text": [
            "[36, 42, 38, 33, 64]\n"
          ]
        }
      ]
    },
    {
      "cell_type": "code",
      "source": [
        "symbols = \"$*&!@\"\n",
        "codes = [ord(symbol) for symbol in symbols]\n",
        "\n",
        "print(codes)"
      ],
      "metadata": {
        "colab": {
          "base_uri": "https://localhost:8080/"
        },
        "id": "G_v2n8cXJsbq",
        "outputId": "e08bf293-8f74-4049-ccf3-5042b07050c5"
      },
      "execution_count": 3,
      "outputs": [
        {
          "output_type": "stream",
          "name": "stdout",
          "text": [
            "[36, 42, 38, 33, 64]\n"
          ]
        }
      ]
    },
    {
      "cell_type": "code",
      "source": [
        "x = '\"!~$$*&!@'\n",
        "dummy = [ord(x) for x in x]\n",
        "print(x)\n",
        "print(dummy)\n"
      ],
      "metadata": {
        "colab": {
          "base_uri": "https://localhost:8080/"
        },
        "id": "Z6vyhUYQJ47v",
        "outputId": "d770be7e-aa42-43a5-c1d7-3c94b43297c2"
      },
      "execution_count": 4,
      "outputs": [
        {
          "output_type": "stream",
          "name": "stdout",
          "text": [
            "\"!~$$*&!@\n",
            "[34, 33, 126, 36, 36, 42, 38, 33, 64]\n"
          ]
        }
      ]
    },
    {
      "cell_type": "code",
      "source": [
        "symbols = '\"!~$$*&!@'\n",
        "beyond_ascii = [ord(s) for s in symbols if ord(s) > 32]\n",
        "\n",
        "print(beyond_ascii)\n"
      ],
      "metadata": {
        "colab": {
          "base_uri": "https://localhost:8080/"
        },
        "id": "MSzPqr3qKEd8",
        "outputId": "3f014ea0-6300-4180-aae1-c79fecc7056e"
      },
      "execution_count": 5,
      "outputs": [
        {
          "output_type": "stream",
          "name": "stdout",
          "text": [
            "[34, 33, 126, 36, 36, 42, 38, 33, 64]\n"
          ]
        }
      ]
    },
    {
      "cell_type": "code",
      "source": [
        "symbols = '\"!~ $$*&!@'\n",
        "beyond_ascii = list(filter(lambda c: c>64, map(ord, symbols) ) )\n",
        "\n",
        "print(beyond_ascii, '\\n')\n",
        "\n",
        "print(f\"Map function:\\n>>> {map(ord, symbols)}\")\n",
        "print(f\"List after map:\\n>>> {list(map(ord, symbols))}\")"
      ],
      "metadata": {
        "colab": {
          "base_uri": "https://localhost:8080/"
        },
        "id": "ZXJawfH2KTNa",
        "outputId": "e09d190f-f118-49b8-a1e1-84514503d3fb"
      },
      "execution_count": 7,
      "outputs": [
        {
          "output_type": "stream",
          "name": "stdout",
          "text": [
            "[126] \n",
            "\n",
            "Map function:\n",
            ">>> <map object at 0x7e35776bf730>\n",
            "List after map:\n",
            ">>> [34, 33, 126, 32, 36, 36, 42, 38, 33, 64]\n"
          ]
        }
      ]
    },
    {
      "cell_type": "code",
      "source": [
        "colors = ['black', 'white' ]\n",
        "sizes = ['S', 'M', 'L']\n",
        "tshirts = [(color, size) for color in colors for size in sizes]\n",
        "\n",
        "print(tshirts)\n",
        "\n",
        "for color in colors:\n",
        "  for size in sizes:\n",
        "    print((color, size))"
      ],
      "metadata": {
        "colab": {
          "base_uri": "https://localhost:8080/"
        },
        "id": "kZETK19JKbG8",
        "outputId": "0eef0b6a-e1c1-4c36-f70f-d8d857155828"
      },
      "execution_count": 10,
      "outputs": [
        {
          "output_type": "stream",
          "name": "stdout",
          "text": [
            "[('black', 'S'), ('black', 'M'), ('black', 'L'), ('white', 'S'), ('white', 'M'), ('white', 'L')]\n",
            "('black', 'S')\n",
            "('black', 'M')\n",
            "('black', 'L')\n",
            "('white', 'S')\n",
            "('white', 'M')\n",
            "('white', 'L')\n"
          ]
        }
      ]
    },
    {
      "cell_type": "code",
      "source": [
        "symbols = \"!#^&&#\"\n",
        "ord_s = tuple(ord(s) for s in symbols if ord(s))\n",
        "print(ord_s)"
      ],
      "metadata": {
        "colab": {
          "base_uri": "https://localhost:8080/"
        },
        "id": "7qMy4auHKkyO",
        "outputId": "d2b73f95-393e-4873-e900-b5ddc09f44d0"
      },
      "execution_count": 11,
      "outputs": [
        {
          "output_type": "stream",
          "name": "stdout",
          "text": [
            "(33, 35, 94, 38, 38, 35)\n"
          ]
        }
      ]
    },
    {
      "cell_type": "code",
      "source": [
        "colors = ['black', 'white']\n",
        "sizes = ['S', 'M', 'L']\n",
        "\n",
        "for tshirt in ('{} {}'.format(c, s) for s in sizes for c in colors):\n",
        "  print(tshirt)\n",
        "\n"
      ],
      "metadata": {
        "colab": {
          "base_uri": "https://localhost:8080/"
        },
        "id": "ZIBFDCsfKvGo",
        "outputId": "c0bfcb78-4ad8-4fb9-a456-60bde55c61a7"
      },
      "execution_count": 15,
      "outputs": [
        {
          "output_type": "stream",
          "name": "stdout",
          "text": [
            "black S\n",
            "white S\n",
            "black M\n",
            "white M\n",
            "black L\n",
            "white L\n"
          ]
        }
      ]
    },
    {
      "cell_type": "code",
      "source": [
        "lax_coordinates = (33.9425, -118.408056)\n",
        "city, year, pop, chg, area = ('Tokyo', 2003, 32450, 0.66, 8014)\n",
        "traveler_ids = [('USA', '31195855' ),\n",
        "                ('BRA', 'CE342567' ),\n",
        "                ('ESP', 'XDA205856' )]\n",
        "\n",
        "for passport in sorted(traveler_ids):\n",
        "  print('%s/%s' % passport)\n",
        "  print('{}/{}'.format(passport[0], passport [1]) )\n",
        "  print(f'{passport[0]}/{passport [1]}' )"
      ],
      "metadata": {
        "colab": {
          "base_uri": "https://localhost:8080/"
        },
        "id": "CwLQ_sYmLEgl",
        "outputId": "366890d4-bc42-4d8a-cd9a-a91b87478248"
      },
      "execution_count": 17,
      "outputs": [
        {
          "output_type": "stream",
          "name": "stdout",
          "text": [
            "BRA/CE342567\n",
            "BRA/CE342567\n",
            "BRA/CE342567\n",
            "ESP/XDA205856\n",
            "ESP/XDA205856\n",
            "ESP/XDA205856\n",
            "USA/31195855\n",
            "USA/31195855\n",
            "USA/31195855\n"
          ]
        }
      ]
    },
    {
      "cell_type": "code",
      "source": [
        "for country, _ in traveler_ids:\n",
        "  print(country)"
      ],
      "metadata": {
        "colab": {
          "base_uri": "https://localhost:8080/"
        },
        "id": "RpHK6d3DLTuR",
        "outputId": "0388ffb3-e6b2-4f6e-9740-147962ea02d2"
      },
      "execution_count": 19,
      "outputs": [
        {
          "output_type": "stream",
          "name": "stdout",
          "text": [
            "USA\n",
            "BRA\n",
            "ESP\n"
          ]
        }
      ]
    },
    {
      "cell_type": "code",
      "source": [
        "city, year, pop, chg, area = ('Tokyo', 2003, 32450, 0.66, 8014)\n",
        "print(city, year, pop, chg, area)"
      ],
      "metadata": {
        "colab": {
          "base_uri": "https://localhost:8080/"
        },
        "id": "CiQgmWnyLWjo",
        "outputId": "e0da69ed-0cf4-49be-ee44-3d6eab6ff4f2"
      },
      "execution_count": 21,
      "outputs": [
        {
          "output_type": "stream",
          "name": "stdout",
          "text": [
            "Tokyo 2003 32450 0.66 8014\n"
          ]
        }
      ]
    },
    {
      "cell_type": "code",
      "source": [
        "lax_coordinates = (33.9425, -118.408056)\n",
        "latitude, longitude = lax_coordinates\n",
        "print(latitude)\n",
        "print(longitude)"
      ],
      "metadata": {
        "colab": {
          "base_uri": "https://localhost:8080/"
        },
        "id": "LIQ_ORwALcwr",
        "outputId": "af698174-fa4f-46b6-8d16-1bd70a9eca4c"
      },
      "execution_count": 23,
      "outputs": [
        {
          "output_type": "stream",
          "name": "stdout",
          "text": [
            "33.9425\n",
            "-118.408056\n"
          ]
        }
      ]
    },
    {
      "cell_type": "code",
      "source": [
        "a=10; b=20\n",
        "b, a = a, b\n",
        "print(a, b)"
      ],
      "metadata": {
        "colab": {
          "base_uri": "https://localhost:8080/"
        },
        "id": "EHDWn6t0Lj9j",
        "outputId": "9e44fd26-8a12-4c15-aeb3-27d4910465f7"
      },
      "execution_count": 24,
      "outputs": [
        {
          "output_type": "stream",
          "name": "stdout",
          "text": [
            "20 10\n"
          ]
        }
      ]
    },
    {
      "cell_type": "code",
      "source": [
        "divmod(20, 8)"
      ],
      "metadata": {
        "colab": {
          "base_uri": "https://localhost:8080/"
        },
        "id": "ivgcLO_VLper",
        "outputId": "81f927e9-b597-4901-e8d3-b44f6bdaeb25"
      },
      "execution_count": 25,
      "outputs": [
        {
          "output_type": "execute_result",
          "data": {
            "text/plain": [
              "(2, 4)"
            ]
          },
          "metadata": {},
          "execution_count": 25
        }
      ]
    },
    {
      "cell_type": "code",
      "source": [
        "t = (20, 8)\n",
        "divmod(*t)"
      ],
      "metadata": {
        "colab": {
          "base_uri": "https://localhost:8080/"
        },
        "id": "hrkrTQhJLsye",
        "outputId": "01241f6a-5340-4411-8cbd-c1b9f07f2188"
      },
      "execution_count": 26,
      "outputs": [
        {
          "output_type": "execute_result",
          "data": {
            "text/plain": [
              "(2, 4)"
            ]
          },
          "metadata": {},
          "execution_count": 26
        }
      ]
    },
    {
      "cell_type": "code",
      "source": [
        "quotient, remainder = divmod(*t)\n",
        "quotient, remainder"
      ],
      "metadata": {
        "colab": {
          "base_uri": "https://localhost:8080/"
        },
        "id": "5dqviOXhLwm-",
        "outputId": "84194cc4-b62a-4528-8ba3-6581f94277b2"
      },
      "execution_count": 27,
      "outputs": [
        {
          "output_type": "execute_result",
          "data": {
            "text/plain": [
              "(2, 4)"
            ]
          },
          "metadata": {},
          "execution_count": 27
        }
      ]
    },
    {
      "cell_type": "code",
      "source": [
        "import os\n",
        "\n",
        "_, filename = os.path.split('/home/luciano/.ssh/idrsa.pub')\n",
        "filename"
      ],
      "metadata": {
        "colab": {
          "base_uri": "https://localhost:8080/",
          "height": 35
        },
        "id": "tT8AhYltLyO-",
        "outputId": "335373f1-8fa2-4d19-e575-2bd0cdaec995"
      },
      "execution_count": 29,
      "outputs": [
        {
          "output_type": "execute_result",
          "data": {
            "text/plain": [
              "'dirsa.pub'"
            ],
            "application/vnd.google.colaboratory.intrinsic+json": {
              "type": "string"
            }
          },
          "metadata": {},
          "execution_count": 29
        }
      ]
    },
    {
      "cell_type": "code",
      "source": [
        "a, b, *rest = range(5)\n",
        "a, b, rest\n",
        "\n",
        "a, b, *rest = range(3)\n",
        "a, b, rest\n",
        "\n",
        "a, b, *rest = range(2)\n",
        "a, b, rest"
      ],
      "metadata": {
        "colab": {
          "base_uri": "https://localhost:8080/"
        },
        "id": "HGEU1QtqMAbh",
        "outputId": "15d9ae47-9d79-4079-d287-9b6502ac5f42"
      },
      "execution_count": 32,
      "outputs": [
        {
          "output_type": "execute_result",
          "data": {
            "text/plain": [
              "(0, 1, [])"
            ]
          },
          "metadata": {},
          "execution_count": 32
        }
      ]
    },
    {
      "cell_type": "code",
      "source": [
        "a, *body, c, d = range(5)\n",
        "a, body, c, d\n",
        "\n",
        "*head, b, c, d = range(5)\n",
        "head, b, c, d"
      ],
      "metadata": {
        "colab": {
          "base_uri": "https://localhost:8080/"
        },
        "id": "ba07PcMTMNzN",
        "outputId": "9e8a82d4-7eb7-428e-c9ed-02db1f147fac"
      },
      "execution_count": 34,
      "outputs": [
        {
          "output_type": "execute_result",
          "data": {
            "text/plain": [
              "([0, 1], 2, 3, 4)"
            ]
          },
          "metadata": {},
          "execution_count": 34
        }
      ]
    },
    {
      "cell_type": "code",
      "source": [
        "metro_areas = [\n",
        "    (\"Tokyo\", \"JP\", 36.933, (35, 139)),\n",
        "    (\"Delhi NCR\", \"IN\", 21, (28, 77)),\n",
        "    (\"Mexico City\", \"MX\", 20, (19, -99)),\n",
        "    (\"New York-Newark\", \"US\", 20, (40, -74)),\n",
        "    (\"Sao Paulo\", \"BR\", 19, (-23, -46))\n",
        "]\n",
        "\n",
        "print(\"{:15} | {:^9} | {:^9}\". format('', 'lat.','long.'))\n",
        "fmt = '{:15} | {:9.4f} | {:9.4f}'\n",
        "\n",
        "for name, cc, pop, (lat, long) in metro_areas:\n",
        "  if long <= 0:\n",
        "    print(fmt.format(name, lat,long))"
      ],
      "metadata": {
        "colab": {
          "base_uri": "https://localhost:8080/"
        },
        "id": "Kfab2yKaMYk3",
        "outputId": "7bec5cda-0bb6-418a-8b5d-61b9f49b6def"
      },
      "execution_count": 52,
      "outputs": [
        {
          "output_type": "stream",
          "name": "stdout",
          "text": [
            "                |   lat.    |   long.  \n",
            "Mexico City     |   19.0000 |  -99.0000\n",
            "New York-Newark |   40.0000 |  -74.0000\n",
            "Sao Paulo       |  -23.0000 |  -46.0000\n"
          ]
        }
      ]
    },
    {
      "cell_type": "code",
      "source": [
        "from typing_extensions import NamedTuple\n",
        "from collections import namedtuple\n",
        "City = namedtuple('City','name contry population coordinates')\n",
        "tokyo = City('Tokyo', 'JP', 36.689, (35.689, 139.691))\n",
        "tokyo"
      ],
      "metadata": {
        "colab": {
          "base_uri": "https://localhost:8080/"
        },
        "id": "0kfy-wMrNLXi",
        "outputId": "d1967a01-e4f6-4618-f6c2-c3266e242f0d"
      },
      "execution_count": 51,
      "outputs": [
        {
          "output_type": "execute_result",
          "data": {
            "text/plain": [
              "City(name='Tokyo', contry='JP', population=36.689, coordinates=(35.689, 139.691))"
            ]
          },
          "metadata": {},
          "execution_count": 51
        }
      ]
    },
    {
      "cell_type": "code",
      "source": [
        "City._fields"
      ],
      "metadata": {
        "colab": {
          "base_uri": "https://localhost:8080/"
        },
        "id": "fGZtCymtOF_1",
        "outputId": "3e694a1d-b03c-45e3-f20d-6cd8d3993b56"
      },
      "execution_count": 53,
      "outputs": [
        {
          "output_type": "execute_result",
          "data": {
            "text/plain": [
              "('name', 'contry', 'population', 'coordinates')"
            ]
          },
          "metadata": {},
          "execution_count": 53
        }
      ]
    },
    {
      "cell_type": "code",
      "source": [
        "LetLong = namedtuple('LatLong', 'lat long')\n",
        "delhi_data = ('Delhi NCR', 'IN', 21.935, LetLong(28.613889, 77.208889))\n",
        "delhi = City._make(delhi_data)\n",
        "delhi._asdict()"
      ],
      "metadata": {
        "colab": {
          "base_uri": "https://localhost:8080/"
        },
        "id": "PA1-1_EsOTJh",
        "outputId": "e4aa087c-9c4b-4991-e596-f0c528fcae45"
      },
      "execution_count": 55,
      "outputs": [
        {
          "output_type": "execute_result",
          "data": {
            "text/plain": [
              "{'name': 'Delhi NCR',\n",
              " 'contry': 'IN',\n",
              " 'population': 21.935,\n",
              " 'coordinates': LatLong(lat=28.613889, long=77.208889)}"
            ]
          },
          "metadata": {},
          "execution_count": 55
        }
      ]
    },
    {
      "cell_type": "code",
      "source": [
        "for key, value in delhi._asdict().items():\n",
        "  print(key + ':', value)"
      ],
      "metadata": {
        "colab": {
          "base_uri": "https://localhost:8080/"
        },
        "id": "i1yuonrKOZa_",
        "outputId": "f979b4c0-4842-4c5c-eb40-3662831ee3ce"
      },
      "execution_count": 56,
      "outputs": [
        {
          "output_type": "stream",
          "name": "stdout",
          "text": [
            "name: Delhi NCR\n",
            "contry: IN\n",
            "population: 21.935\n",
            "coordinates: LatLong(lat=28.613889, long=77.208889)\n"
          ]
        }
      ]
    },
    {
      "cell_type": "code",
      "source": [
        "l = [10, 20, 30, 40, 50, 60]\n",
        "print(l[:2])\n",
        "print(l[2:])\n",
        "print(l[:3])\n",
        "print(l[3:])"
      ],
      "metadata": {
        "colab": {
          "base_uri": "https://localhost:8080/"
        },
        "id": "cjCU-asKOfHi",
        "outputId": "e3042dbc-8718-44ad-fb98-d4be39839bff"
      },
      "execution_count": 57,
      "outputs": [
        {
          "output_type": "stream",
          "name": "stdout",
          "text": [
            "[10, 20]\n",
            "[30, 40, 50, 60]\n",
            "[10, 20, 30]\n",
            "[40, 50, 60]\n"
          ]
        }
      ]
    },
    {
      "cell_type": "code",
      "source": [
        "invoice = \"\"\"\n",
        "0.....6.........................25.........33......40.......\n",
        "1909  Pimoroni                       $17.50     3     $52.50\n",
        "1489  6mm Tactile                    $4.95      2      $9.90\n",
        "\"\"\"\n",
        "\n",
        "\n",
        "SKU = slice(0, 6)\n",
        "DESCRIPTION = slice(6, 25)\n",
        "UNIT_PRICE = slice(25, 33)\n",
        "QUANTITY = slice(33, 40)\n",
        "ITEM_TOTAL = slice(40, None)\n",
        "\n",
        "line_items = invoice.split('\\n')[2:]\n",
        "\n",
        "for item in line_items:\n",
        "  print(item[UNIT_PRICE],item[DESCRIPTION])"
      ],
      "metadata": {
        "colab": {
          "base_uri": "https://localhost:8080/"
        },
        "id": "Nk3LFFqFOjzw",
        "outputId": "e97fab65-9a0a-4e86-a2ce-23331f5684b4"
      },
      "execution_count": 81,
      "outputs": [
        {
          "output_type": "stream",
          "name": "stdout",
          "text": [
            "         Pimoroni           \n",
            "         6mm Tactile        \n",
            " \n"
          ]
        }
      ]
    },
    {
      "cell_type": "code",
      "source": [
        "invoice = \"\"\"\n",
        "0.....6..................25........33......40.......\n",
        "1909  Pimoroni              $17.50    3     $52.50\n",
        "1489  6mm Tactile           $4.95     2      $9.90\n",
        "\"\"\"\n",
        "\n",
        "\n",
        "SKU = slice(0, 6)\n",
        "DESCRIPTION = slice(6, 25)\n",
        "UNIT_PRICE = slice(25, 33)\n",
        "QUANTITY = slice(33, 40)\n",
        "ITEM_TOTAL = slice(40, None)\n",
        "\n",
        "line_items = invoice.split('\\n')[2:]\n",
        "\n",
        "for item in line_items:\n",
        "  print(f\"{item[UNIT_PRICE].strip()} {item[DESCRIPTION].strip()}\")"
      ],
      "metadata": {
        "colab": {
          "base_uri": "https://localhost:8080/"
        },
        "id": "AhKpIg-yPM25",
        "outputId": "6c858771-2965-4623-aaff-ee35bf47fafd"
      },
      "execution_count": 151,
      "outputs": [
        {
          "output_type": "stream",
          "name": "stdout",
          "text": [
            "$17.5 Pimoroni\n",
            "$4.95 6mm Tactile\n",
            " \n"
          ]
        }
      ]
    },
    {
      "cell_type": "code",
      "source": [
        "l = list(range(10))\n",
        "print(l)\n",
        "l[2:5] = [20, 30]\n",
        "print(l)\n",
        "del l[5:7]\n",
        "print(l)\n",
        "l[3::2] = [11, 22]\n",
        "print(l)"
      ],
      "metadata": {
        "colab": {
          "base_uri": "https://localhost:8080/"
        },
        "id": "wgUhfiSTQBYY",
        "outputId": "2eb804bb-7ca6-4286-cdaa-d3549a15ee25"
      },
      "execution_count": 89,
      "outputs": [
        {
          "output_type": "stream",
          "name": "stdout",
          "text": [
            "[0, 1, 2, 3, 4, 5, 6, 7, 8, 9]\n",
            "[0, 1, 20, 30, 5, 6, 7, 8, 9]\n",
            "[0, 1, 20, 30, 5, 8, 9]\n",
            "[0, 1, 20, 11, 5, 22, 9]\n"
          ]
        }
      ]
    },
    {
      "cell_type": "code",
      "source": [
        "l[2:5] = 100"
      ],
      "metadata": {
        "colab": {
          "base_uri": "https://localhost:8080/",
          "height": 147
        },
        "id": "5xmB13g0QPfy",
        "outputId": "ffd8fa52-bae0-42fa-b883-a342d5f4d7eb"
      },
      "execution_count": 86,
      "outputs": [
        {
          "output_type": "error",
          "ename": "TypeError",
          "evalue": "must assign iterable to extended slice",
          "traceback": [
            "\u001b[0;31m---------------------------------------------------------------------------\u001b[0m",
            "\u001b[0;31mTypeError\u001b[0m                                 Traceback (most recent call last)",
            "\u001b[0;32m/tmp/ipython-input-559711174.py\u001b[0m in \u001b[0;36m<cell line: 0>\u001b[0;34m()\u001b[0m\n\u001b[0;32m----> 1\u001b[0;31m \u001b[0ml\u001b[0m\u001b[0;34m[\u001b[0m\u001b[0;36m2\u001b[0m\u001b[0;34m:\u001b[0m\u001b[0;36m5\u001b[0m\u001b[0;34m]\u001b[0m \u001b[0;34m=\u001b[0m \u001b[0;36m100\u001b[0m\u001b[0;34m\u001b[0m\u001b[0;34m\u001b[0m\u001b[0m\n\u001b[0m",
            "\u001b[0;31mTypeError\u001b[0m: must assign iterable to extended slice"
          ]
        }
      ]
    },
    {
      "cell_type": "code",
      "source": [
        "l[2:5] = [100]\n",
        "l"
      ],
      "metadata": {
        "colab": {
          "base_uri": "https://localhost:8080/"
        },
        "id": "jzLDEVCSQXw8",
        "outputId": "08eb63c4-d3a2-4ee4-b809-345b839e1ad4"
      },
      "execution_count": 90,
      "outputs": [
        {
          "output_type": "execute_result",
          "data": {
            "text/plain": [
              "[0, 1, 100, 22, 9]"
            ]
          },
          "metadata": {},
          "execution_count": 90
        }
      ]
    },
    {
      "cell_type": "code",
      "source": [
        "l = [1,2,3]\n",
        "print(l * 5)\n",
        "print(5*'abcd')"
      ],
      "metadata": {
        "colab": {
          "base_uri": "https://localhost:8080/"
        },
        "id": "o4qVM-grQaN7",
        "outputId": "8513c4e8-b8f7-4c12-b95d-46ae38ec1560"
      },
      "execution_count": 94,
      "outputs": [
        {
          "output_type": "stream",
          "name": "stdout",
          "text": [
            "[1, 2, 3, 1, 2, 3, 1, 2, 3, 1, 2, 3, 1, 2, 3]\n",
            "abcdabcdabcdabcdabcd\n"
          ]
        }
      ]
    },
    {
      "cell_type": "code",
      "source": [
        "board = [['_'] * 3 for i in range(3)]\n",
        "print(board)\n",
        "board[1][2] = 'X'\n",
        "print(board)"
      ],
      "metadata": {
        "colab": {
          "base_uri": "https://localhost:8080/"
        },
        "id": "1df7re4HQguG",
        "outputId": "e7fb6a5f-215c-4137-c052-9f4bb67d8ac4"
      },
      "execution_count": 96,
      "outputs": [
        {
          "output_type": "stream",
          "name": "stdout",
          "text": [
            "[['_', '_', '_'], ['_', '_', '_'], ['_', '_', '_']]\n",
            "[['_', '_', '_'], ['_', '_', 'X'], ['_', '_', '_']]\n"
          ]
        }
      ]
    },
    {
      "cell_type": "code",
      "source": [
        "weird_board = [['_']*3]*3\n",
        "print(weird_board)\n",
        "\n",
        "weird_board[1][2] = '0'\n",
        "print(weird_board)"
      ],
      "metadata": {
        "colab": {
          "base_uri": "https://localhost:8080/"
        },
        "id": "zPpEyQzYQtrH",
        "outputId": "120ae38c-b31c-4506-84b8-32b9eebd3c45"
      },
      "execution_count": 98,
      "outputs": [
        {
          "output_type": "stream",
          "name": "stdout",
          "text": [
            "[['_', '_', '_'], ['_', '_', '_'], ['_', '_', '_']]\n",
            "[['_', '_', '0'], ['_', '_', '0'], ['_', '_', '0']]\n"
          ]
        }
      ]
    },
    {
      "cell_type": "code",
      "source": [
        "row = ['_'] * 3\n",
        "board = []\n",
        "for i in range(3):\n",
        "  board.append (row)\n",
        "\n",
        "board[1][2] = 'X'\n",
        "\n",
        "board"
      ],
      "metadata": {
        "colab": {
          "base_uri": "https://localhost:8080/"
        },
        "id": "zRgci4fxQ4ng",
        "outputId": "b446916a-0c19-43f5-d4de-48b1756cb12f"
      },
      "execution_count": 101,
      "outputs": [
        {
          "output_type": "execute_result",
          "data": {
            "text/plain": [
              "[['_', '_', 'X'], ['_', '_', 'X'], ['_', '_', 'X']]"
            ]
          },
          "metadata": {},
          "execution_count": 101
        }
      ]
    },
    {
      "cell_type": "code",
      "source": [
        "board = []\n",
        "for i in range(3):\n",
        "  row = ['_'] * 3\n",
        "  board.append(row)\n",
        "\n",
        "board[2][0] = 'X'\n",
        "board"
      ],
      "metadata": {
        "colab": {
          "base_uri": "https://localhost:8080/"
        },
        "id": "czHFy8kVRA5L",
        "outputId": "344ebe24-7b0b-4f79-cbc3-7afb5ebb0db6"
      },
      "execution_count": 103,
      "outputs": [
        {
          "output_type": "execute_result",
          "data": {
            "text/plain": [
              "[['_', '_', '_'], ['_', '_', '_'], ['X', '_', '_']]"
            ]
          },
          "metadata": {},
          "execution_count": 103
        }
      ]
    },
    {
      "cell_type": "code",
      "source": [
        "l = [1,2,3]\n",
        "print(id(l))\n",
        "l*=2\n",
        "print(l)\n",
        "print(id(l))\n"
      ],
      "metadata": {
        "colab": {
          "base_uri": "https://localhost:8080/"
        },
        "id": "VWrJrYiJRCMr",
        "outputId": "6987a2bb-9e0d-4f0c-df84-799f29a3138c"
      },
      "execution_count": 104,
      "outputs": [
        {
          "output_type": "stream",
          "name": "stdout",
          "text": [
            "138768092195584\n",
            "[1, 2, 3, 1, 2, 3]\n",
            "138768092195584\n"
          ]
        }
      ]
    },
    {
      "cell_type": "code",
      "source": [
        "t = (1,2,3)\n",
        "print(id(t))\n",
        "t*=2\n",
        "print(id(t))"
      ],
      "metadata": {
        "colab": {
          "base_uri": "https://localhost:8080/"
        },
        "id": "brBgJQL9RSgV",
        "outputId": "ffa864c0-a12a-4588-a0df-e17b26543cc7"
      },
      "execution_count": 106,
      "outputs": [
        {
          "output_type": "stream",
          "name": "stdout",
          "text": [
            "138768093275072\n",
            "138768094362784\n"
          ]
        }
      ]
    },
    {
      "cell_type": "code",
      "source": [
        "t = (1,2,[30,40])\n",
        "print(t)\n",
        "\n",
        "t[2] += [50,60]\n"
      ],
      "metadata": {
        "colab": {
          "base_uri": "https://localhost:8080/",
          "height": 202
        },
        "id": "Cok9J9rHRY51",
        "outputId": "863091d5-b1c0-4cc3-e506-721ab5fc53a7"
      },
      "execution_count": 146,
      "outputs": [
        {
          "output_type": "stream",
          "name": "stdout",
          "text": [
            "(1, 2, [30, 40])\n"
          ]
        },
        {
          "output_type": "error",
          "ename": "TypeError",
          "evalue": "'tuple' object does not support item assignment",
          "traceback": [
            "\u001b[0;31m---------------------------------------------------------------------------\u001b[0m",
            "\u001b[0;31mTypeError\u001b[0m                                 Traceback (most recent call last)",
            "\u001b[0;32m/tmp/ipython-input-2797105707.py\u001b[0m in \u001b[0;36m<cell line: 0>\u001b[0;34m()\u001b[0m\n\u001b[1;32m      2\u001b[0m \u001b[0mprint\u001b[0m\u001b[0;34m(\u001b[0m\u001b[0mt\u001b[0m\u001b[0;34m)\u001b[0m\u001b[0;34m\u001b[0m\u001b[0;34m\u001b[0m\u001b[0m\n\u001b[1;32m      3\u001b[0m \u001b[0;34m\u001b[0m\u001b[0m\n\u001b[0;32m----> 4\u001b[0;31m \u001b[0mt\u001b[0m\u001b[0;34m[\u001b[0m\u001b[0;36m2\u001b[0m\u001b[0;34m]\u001b[0m \u001b[0;34m+=\u001b[0m \u001b[0;34m[\u001b[0m\u001b[0;36m50\u001b[0m\u001b[0;34m,\u001b[0m\u001b[0;36m60\u001b[0m\u001b[0;34m]\u001b[0m\u001b[0;34m\u001b[0m\u001b[0;34m\u001b[0m\u001b[0m\n\u001b[0m",
            "\u001b[0;31mTypeError\u001b[0m: 'tuple' object does not support item assignment"
          ]
        }
      ]
    },
    {
      "cell_type": "code",
      "source": [
        "print(t)"
      ],
      "metadata": {
        "colab": {
          "base_uri": "https://localhost:8080/"
        },
        "id": "kKyPMEebRkTQ",
        "outputId": "ea4a6bea-1c2d-49d9-d19f-e1a965dd7815"
      },
      "execution_count": 114,
      "outputs": [
        {
          "output_type": "stream",
          "name": "stdout",
          "text": [
            "(1, 2, [30, 40, 50, 60])\n"
          ]
        }
      ]
    },
    {
      "cell_type": "code",
      "source": [
        "fruits = ['grape', 'raspberry', 'apple', 'banana']\n",
        "print(sorted(fruits))\n",
        "print(fruits)\n",
        "print(sorted(fruits, reverse=True))\n",
        "print(sorted(fruits, key=len))"
      ],
      "metadata": {
        "colab": {
          "base_uri": "https://localhost:8080/"
        },
        "id": "ao1xCDlvRzSB",
        "outputId": "8e428515-febe-40cb-dddf-e1f0f41cb1cf"
      },
      "execution_count": 116,
      "outputs": [
        {
          "output_type": "stream",
          "name": "stdout",
          "text": [
            "['apple', 'banana', 'grape', 'raspberry']\n",
            "['grape', 'raspberry', 'apple', 'banana']\n",
            "['raspberry', 'grape', 'banana', 'apple']\n",
            "['grape', 'apple', 'banana', 'raspberry']\n"
          ]
        }
      ]
    },
    {
      "cell_type": "code",
      "source": [
        "print(sorted(fruits, key=len, reverse=True))\n",
        "print(fruits)\n",
        "fruits.sort()\n",
        "print(fruits)"
      ],
      "metadata": {
        "colab": {
          "base_uri": "https://localhost:8080/"
        },
        "id": "GobYVVi6R6Jj",
        "outputId": "9780b8e9-d8eb-42ea-f3f8-262e688aeddc"
      },
      "execution_count": 118,
      "outputs": [
        {
          "output_type": "stream",
          "name": "stdout",
          "text": [
            "['raspberry', 'banana', 'grape', 'apple']\n",
            "['grape', 'raspberry', 'apple', 'banana']\n",
            "['apple', 'banana', 'grape', 'raspberry']\n"
          ]
        }
      ]
    },
    {
      "cell_type": "code",
      "source": [
        "from array import array\n",
        "from random import random\n",
        "\n",
        "floats = array('d', (random() for _ in range(10**7)))\n",
        "print(floats[-1])"
      ],
      "metadata": {
        "colab": {
          "base_uri": "https://localhost:8080/"
        },
        "id": "A7_2VEv7SDn5",
        "outputId": "ddc8be2f-3ac3-4266-fced-d253b71577fb"
      },
      "execution_count": 120,
      "outputs": [
        {
          "output_type": "stream",
          "name": "stdout",
          "text": [
            "0.8124553742967462\n"
          ]
        }
      ]
    },
    {
      "cell_type": "code",
      "source": [
        "with open('floats.bin', 'wb') as f:\n",
        "  floats.tofile(f)\n",
        "floats2 = array('d')\n",
        "with open('floats.bin', 'rb') as f:\n",
        "  floats2.fromfile(f, 10**7)\n",
        "\n",
        "floats2[-1]"
      ],
      "metadata": {
        "colab": {
          "base_uri": "https://localhost:8080/"
        },
        "id": "eYbe62iDSOZN",
        "outputId": "fbd7c6a6-6588-4ce3-f5ec-1a48c5666bd2"
      },
      "execution_count": 122,
      "outputs": [
        {
          "output_type": "execute_result",
          "data": {
            "text/plain": [
              "0.8124553742967462"
            ]
          },
          "metadata": {},
          "execution_count": 122
        }
      ]
    },
    {
      "cell_type": "code",
      "source": [
        "floats == floats2"
      ],
      "metadata": {
        "colab": {
          "base_uri": "https://localhost:8080/"
        },
        "id": "yyhpqZMCSXS2",
        "outputId": "6e277fc4-df6e-4ce9-907b-34400a917537"
      },
      "execution_count": 124,
      "outputs": [
        {
          "output_type": "execute_result",
          "data": {
            "text/plain": [
              "True"
            ]
          },
          "metadata": {},
          "execution_count": 124
        }
      ]
    },
    {
      "cell_type": "code",
      "source": [
        "import array\n",
        "numbers = array.array('h', [-2, -1, 0, 1, 2])\n",
        "memv = memoryview(numbers)\n",
        "len(memv)"
      ],
      "metadata": {
        "colab": {
          "base_uri": "https://localhost:8080/"
        },
        "id": "cxMqVvQ-ShA-",
        "outputId": "271941fe-6364-45db-e27d-3ea83be71626"
      },
      "execution_count": 138,
      "outputs": [
        {
          "output_type": "stream",
          "name": "stdout",
          "text": [
            "[254, 255, 255, 255, 0, 0, 1, 0, 2, 0]\n",
            "array('h', [-2, -1, 1024, 1, 2])\n"
          ]
        }
      ]
    },
    {
      "cell_type": "code",
      "source": [
        "memv[0]"
      ],
      "metadata": {
        "colab": {
          "base_uri": "https://localhost:8080/"
        },
        "id": "QQlJc2qcTgqf",
        "outputId": "80eab26e-62eb-476c-8ac8-bf6807397fdf"
      },
      "execution_count": 142,
      "outputs": [
        {
          "output_type": "execute_result",
          "data": {
            "text/plain": [
              "-2"
            ]
          },
          "metadata": {},
          "execution_count": 142
        }
      ]
    },
    {
      "cell_type": "code",
      "source": [
        "memv_oct = memv.cast('B')\n",
        "memv_oct.tolist()"
      ],
      "metadata": {
        "colab": {
          "base_uri": "https://localhost:8080/"
        },
        "id": "qSMt7AdlTiS2",
        "outputId": "6ba5f464-e651-4f1c-a348-8c81ba094cbe"
      },
      "execution_count": 144,
      "outputs": [
        {
          "output_type": "execute_result",
          "data": {
            "text/plain": [
              "[254, 255, 255, 255, 0, 4, 1, 0, 2, 0]"
            ]
          },
          "metadata": {},
          "execution_count": 144
        }
      ]
    },
    {
      "cell_type": "code",
      "source": [
        "memv_oct[5] = 4\n",
        "print(numbers)"
      ],
      "metadata": {
        "colab": {
          "base_uri": "https://localhost:8080/"
        },
        "id": "tOAwHRl2TlE-",
        "outputId": "b00d037d-aba3-4e88-c34a-433f2db0c150"
      },
      "execution_count": 145,
      "outputs": [
        {
          "output_type": "stream",
          "name": "stdout",
          "text": [
            "array('h', [-2, -1, 1024, 1, 2])\n"
          ]
        }
      ]
    },
    {
      "cell_type": "code",
      "source": [
        "data = bytearray(b'hello world')\n",
        "mv = memoryview(data)\n",
        "print(mv[0])\n",
        "mv[0] = 72\n",
        "print(data)"
      ],
      "metadata": {
        "colab": {
          "base_uri": "https://localhost:8080/"
        },
        "id": "NMcSh5kBSwf4",
        "outputId": "b52f4bb3-3b09-43bb-b688-9301a0f0e70d"
      },
      "execution_count": 128,
      "outputs": [
        {
          "output_type": "stream",
          "name": "stdout",
          "text": [
            "104\n",
            "bytearray(b'Hello world')\n"
          ]
        }
      ]
    },
    {
      "cell_type": "code",
      "source": [
        "import numpy\n",
        "a = numpy.arange(12)\n",
        "a"
      ],
      "metadata": {
        "colab": {
          "base_uri": "https://localhost:8080/"
        },
        "id": "M11staGsTB8j",
        "outputId": "3494ad05-626c-419f-e1b1-58655ed4e320"
      },
      "execution_count": 129,
      "outputs": [
        {
          "output_type": "execute_result",
          "data": {
            "text/plain": [
              "array([ 0,  1,  2,  3,  4,  5,  6,  7,  8,  9, 10, 11])"
            ]
          },
          "metadata": {},
          "execution_count": 129
        }
      ]
    },
    {
      "cell_type": "code",
      "source": [
        "type(a)"
      ],
      "metadata": {
        "colab": {
          "base_uri": "https://localhost:8080/"
        },
        "id": "A39qkKW9SwII",
        "outputId": "fcacaa0e-08a7-48f7-9358-9eaac91d2c49"
      },
      "execution_count": 130,
      "outputs": [
        {
          "output_type": "execute_result",
          "data": {
            "text/plain": [
              "numpy.ndarray"
            ]
          },
          "metadata": {},
          "execution_count": 130
        }
      ]
    },
    {
      "cell_type": "code",
      "source": [
        "a.shape"
      ],
      "metadata": {
        "colab": {
          "base_uri": "https://localhost:8080/"
        },
        "id": "4Dcc5-cWTHpD",
        "outputId": "94a27e58-6c76-4c0e-8684-16a97942f789"
      },
      "execution_count": 131,
      "outputs": [
        {
          "output_type": "execute_result",
          "data": {
            "text/plain": [
              "(12,)"
            ]
          },
          "metadata": {},
          "execution_count": 131
        }
      ]
    },
    {
      "cell_type": "code",
      "source": [
        "a.shape = 3,4\n",
        "a"
      ],
      "metadata": {
        "colab": {
          "base_uri": "https://localhost:8080/"
        },
        "id": "oc6xqI1VTJNi",
        "outputId": "ba42c8a6-e734-4eba-a6ed-deafa4841a0e"
      },
      "execution_count": 132,
      "outputs": [
        {
          "output_type": "execute_result",
          "data": {
            "text/plain": [
              "array([[ 0,  1,  2,  3],\n",
              "       [ 4,  5,  6,  7],\n",
              "       [ 8,  9, 10, 11]])"
            ]
          },
          "metadata": {},
          "execution_count": 132
        }
      ]
    },
    {
      "cell_type": "code",
      "source": [
        "a[2]"
      ],
      "metadata": {
        "colab": {
          "base_uri": "https://localhost:8080/"
        },
        "id": "zu22P1WMTMMb",
        "outputId": "9a34dcdc-1bc6-4a57-96b7-57d3cc174b9c"
      },
      "execution_count": 133,
      "outputs": [
        {
          "output_type": "execute_result",
          "data": {
            "text/plain": [
              "array([ 8,  9, 10, 11])"
            ]
          },
          "metadata": {},
          "execution_count": 133
        }
      ]
    },
    {
      "cell_type": "code",
      "source": [
        "a[2, 1]"
      ],
      "metadata": {
        "colab": {
          "base_uri": "https://localhost:8080/"
        },
        "id": "a0c43UtqTNur",
        "outputId": "4d0c8c73-fae9-43b2-f67f-cfb9ef182353"
      },
      "execution_count": 134,
      "outputs": [
        {
          "output_type": "execute_result",
          "data": {
            "text/plain": [
              "np.int64(9)"
            ]
          },
          "metadata": {},
          "execution_count": 134
        }
      ]
    },
    {
      "cell_type": "code",
      "source": [
        "a[:,1]"
      ],
      "metadata": {
        "colab": {
          "base_uri": "https://localhost:8080/"
        },
        "id": "01zkk821TQW0",
        "outputId": "49050171-4026-4f90-ea6c-772a6019a396"
      },
      "execution_count": 135,
      "outputs": [
        {
          "output_type": "execute_result",
          "data": {
            "text/plain": [
              "array([1, 5, 9])"
            ]
          },
          "metadata": {},
          "execution_count": 135
        }
      ]
    },
    {
      "cell_type": "code",
      "source": [
        "a.transpose()"
      ],
      "metadata": {
        "colab": {
          "base_uri": "https://localhost:8080/"
        },
        "id": "G2lADeTnTTx0",
        "outputId": "2cc6055d-f0f0-415f-ebbc-9db39086d50f"
      },
      "execution_count": 136,
      "outputs": [
        {
          "output_type": "execute_result",
          "data": {
            "text/plain": [
              "array([[ 0,  4,  8],\n",
              "       [ 1,  5,  9],\n",
              "       [ 2,  6, 10],\n",
              "       [ 3,  7, 11]])"
            ]
          },
          "metadata": {},
          "execution_count": 136
        }
      ]
    }
  ]
}